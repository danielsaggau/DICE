{
 "cells": [
  {
   "cell_type": "code",
   "execution_count": 1,
   "id": "f2f7585d-ec22-47a6-8bac-dc9193e2294e",
   "metadata": {},
   "outputs": [
    {
     "name": "stdout",
     "output_type": "stream",
     "text": [
      "Collecting RISE\n",
      "  Downloading rise-5.7.1-py2.py3-none-any.whl (4.3 MB)\n",
      "     |████████████████████████████████| 4.3 MB 4.8 MB/s            \n",
      "\u001b[?25hRequirement already satisfied: notebook>=6.0 in /srv/conda/envs/notebook/lib/python3.7/site-packages (from RISE) (6.3.0)\n",
      "Requirement already satisfied: jinja2 in /srv/conda/envs/notebook/lib/python3.7/site-packages (from notebook>=6.0->RISE) (3.0.3)\n",
      "Requirement already satisfied: argon2-cffi in /srv/conda/envs/notebook/lib/python3.7/site-packages (from notebook>=6.0->RISE) (21.1.0)\n",
      "Requirement already satisfied: ipykernel in /srv/conda/envs/notebook/lib/python3.7/site-packages (from notebook>=6.0->RISE) (5.1.4)\n",
      "Requirement already satisfied: nbconvert in /srv/conda/envs/notebook/lib/python3.7/site-packages (from notebook>=6.0->RISE) (6.0.7)\n",
      "Requirement already satisfied: terminado>=0.8.3 in /srv/conda/envs/notebook/lib/python3.7/site-packages (from notebook>=6.0->RISE) (0.12.1)\n",
      "Requirement already satisfied: traitlets>=4.2.1 in /srv/conda/envs/notebook/lib/python3.7/site-packages (from notebook>=6.0->RISE) (5.1.1)\n",
      "Requirement already satisfied: Send2Trash>=1.5.0 in /srv/conda/envs/notebook/lib/python3.7/site-packages (from notebook>=6.0->RISE) (1.8.0)\n",
      "Requirement already satisfied: pyzmq>=17 in /srv/conda/envs/notebook/lib/python3.7/site-packages (from notebook>=6.0->RISE) (22.3.0)\n",
      "Requirement already satisfied: nbformat in /srv/conda/envs/notebook/lib/python3.7/site-packages (from notebook>=6.0->RISE) (5.1.3)\n",
      "Requirement already satisfied: prometheus-client in /srv/conda/envs/notebook/lib/python3.7/site-packages (from notebook>=6.0->RISE) (0.12.0)\n",
      "Requirement already satisfied: tornado>=6.1 in /srv/conda/envs/notebook/lib/python3.7/site-packages (from notebook>=6.0->RISE) (6.1)\n",
      "Requirement already satisfied: ipython-genutils in /srv/conda/envs/notebook/lib/python3.7/site-packages (from notebook>=6.0->RISE) (0.2.0)\n",
      "Requirement already satisfied: jupyter-core>=4.6.1 in /srv/conda/envs/notebook/lib/python3.7/site-packages (from notebook>=6.0->RISE) (4.9.1)\n",
      "Requirement already satisfied: jupyter-client>=5.3.4 in /srv/conda/envs/notebook/lib/python3.7/site-packages (from notebook>=6.0->RISE) (7.0.6)\n",
      "Requirement already satisfied: python-dateutil>=2.1 in /srv/conda/envs/notebook/lib/python3.7/site-packages (from jupyter-client>=5.3.4->notebook>=6.0->RISE) (2.8.2)\n",
      "Requirement already satisfied: nest-asyncio>=1.5 in /srv/conda/envs/notebook/lib/python3.7/site-packages (from jupyter-client>=5.3.4->notebook>=6.0->RISE) (1.5.1)\n",
      "Requirement already satisfied: entrypoints in /srv/conda/envs/notebook/lib/python3.7/site-packages (from jupyter-client>=5.3.4->notebook>=6.0->RISE) (0.3)\n",
      "Requirement already satisfied: ptyprocess in /srv/conda/envs/notebook/lib/python3.7/site-packages (from terminado>=0.8.3->notebook>=6.0->RISE) (0.7.0)\n",
      "Requirement already satisfied: cffi>=1.0.0 in /srv/conda/envs/notebook/lib/python3.7/site-packages (from argon2-cffi->notebook>=6.0->RISE) (1.15.0)\n",
      "Requirement already satisfied: ipython>=5.0.0 in /srv/conda/envs/notebook/lib/python3.7/site-packages (from ipykernel->notebook>=6.0->RISE) (7.29.0)\n",
      "Requirement already satisfied: MarkupSafe>=2.0 in /srv/conda/envs/notebook/lib/python3.7/site-packages (from jinja2->notebook>=6.0->RISE) (2.0.1)\n",
      "Requirement already satisfied: pygments>=2.4.1 in /srv/conda/envs/notebook/lib/python3.7/site-packages (from nbconvert->notebook>=6.0->RISE) (2.10.0)\n",
      "Requirement already satisfied: jupyterlab-pygments in /srv/conda/envs/notebook/lib/python3.7/site-packages (from nbconvert->notebook>=6.0->RISE) (0.1.2)\n",
      "Requirement already satisfied: defusedxml in /srv/conda/envs/notebook/lib/python3.7/site-packages (from nbconvert->notebook>=6.0->RISE) (0.7.1)\n",
      "Requirement already satisfied: mistune<2,>=0.8.1 in /srv/conda/envs/notebook/lib/python3.7/site-packages (from nbconvert->notebook>=6.0->RISE) (0.8.4)\n",
      "Requirement already satisfied: testpath in /srv/conda/envs/notebook/lib/python3.7/site-packages (from nbconvert->notebook>=6.0->RISE) (0.5.0)\n",
      "Requirement already satisfied: bleach in /srv/conda/envs/notebook/lib/python3.7/site-packages (from nbconvert->notebook>=6.0->RISE) (4.1.0)\n",
      "Requirement already satisfied: pandocfilters>=1.4.1 in /srv/conda/envs/notebook/lib/python3.7/site-packages (from nbconvert->notebook>=6.0->RISE) (1.5.0)\n",
      "Requirement already satisfied: nbclient<0.6.0,>=0.5.0 in /srv/conda/envs/notebook/lib/python3.7/site-packages (from nbconvert->notebook>=6.0->RISE) (0.5.9)\n",
      "Requirement already satisfied: jsonschema!=2.5.0,>=2.4 in /srv/conda/envs/notebook/lib/python3.7/site-packages (from nbformat->notebook>=6.0->RISE) (4.2.1)\n",
      "Requirement already satisfied: pycparser in /srv/conda/envs/notebook/lib/python3.7/site-packages (from cffi>=1.0.0->argon2-cffi->notebook>=6.0->RISE) (2.21)\n",
      "Requirement already satisfied: pickleshare in /srv/conda/envs/notebook/lib/python3.7/site-packages (from ipython>=5.0.0->ipykernel->notebook>=6.0->RISE) (0.7.5)\n",
      "Requirement already satisfied: pexpect>4.3 in /srv/conda/envs/notebook/lib/python3.7/site-packages (from ipython>=5.0.0->ipykernel->notebook>=6.0->RISE) (4.8.0)\n",
      "Requirement already satisfied: decorator in /srv/conda/envs/notebook/lib/python3.7/site-packages (from ipython>=5.0.0->ipykernel->notebook>=6.0->RISE) (5.1.0)\n",
      "Requirement already satisfied: jedi>=0.16 in /srv/conda/envs/notebook/lib/python3.7/site-packages (from ipython>=5.0.0->ipykernel->notebook>=6.0->RISE) (0.18.1)\n",
      "Requirement already satisfied: prompt-toolkit!=3.0.0,!=3.0.1,<3.1.0,>=2.0.0 in /srv/conda/envs/notebook/lib/python3.7/site-packages (from ipython>=5.0.0->ipykernel->notebook>=6.0->RISE) (3.0.22)\n",
      "Requirement already satisfied: backcall in /srv/conda/envs/notebook/lib/python3.7/site-packages (from ipython>=5.0.0->ipykernel->notebook>=6.0->RISE) (0.2.0)\n",
      "Requirement already satisfied: setuptools>=18.5 in /srv/conda/envs/notebook/lib/python3.7/site-packages (from ipython>=5.0.0->ipykernel->notebook>=6.0->RISE) (59.1.1)\n",
      "Requirement already satisfied: matplotlib-inline in /srv/conda/envs/notebook/lib/python3.7/site-packages (from ipython>=5.0.0->ipykernel->notebook>=6.0->RISE) (0.1.3)\n",
      "Requirement already satisfied: importlib-resources>=1.4.0 in /srv/conda/envs/notebook/lib/python3.7/site-packages (from jsonschema!=2.5.0,>=2.4->nbformat->notebook>=6.0->RISE) (5.4.0)\n",
      "Requirement already satisfied: attrs>=17.4.0 in /srv/conda/envs/notebook/lib/python3.7/site-packages (from jsonschema!=2.5.0,>=2.4->nbformat->notebook>=6.0->RISE) (21.2.0)\n",
      "Requirement already satisfied: pyrsistent!=0.17.0,!=0.17.1,!=0.17.2,>=0.14.0 in /srv/conda/envs/notebook/lib/python3.7/site-packages (from jsonschema!=2.5.0,>=2.4->nbformat->notebook>=6.0->RISE) (0.18.0)\n",
      "Requirement already satisfied: importlib-metadata in /srv/conda/envs/notebook/lib/python3.7/site-packages (from jsonschema!=2.5.0,>=2.4->nbformat->notebook>=6.0->RISE) (4.8.2)\n",
      "Requirement already satisfied: six>=1.5 in /srv/conda/envs/notebook/lib/python3.7/site-packages (from python-dateutil>=2.1->jupyter-client>=5.3.4->notebook>=6.0->RISE) (1.16.0)\n",
      "Requirement already satisfied: packaging in /srv/conda/envs/notebook/lib/python3.7/site-packages (from bleach->nbconvert->notebook>=6.0->RISE) (21.3)\n",
      "Requirement already satisfied: webencodings in /srv/conda/envs/notebook/lib/python3.7/site-packages (from bleach->nbconvert->notebook>=6.0->RISE) (0.5.1)\n",
      "Requirement already satisfied: zipp>=3.1.0 in /srv/conda/envs/notebook/lib/python3.7/site-packages (from importlib-resources>=1.4.0->jsonschema!=2.5.0,>=2.4->nbformat->notebook>=6.0->RISE) (3.6.0)\n",
      "Requirement already satisfied: parso<0.9.0,>=0.8.0 in /srv/conda/envs/notebook/lib/python3.7/site-packages (from jedi>=0.16->ipython>=5.0.0->ipykernel->notebook>=6.0->RISE) (0.8.2)\n",
      "Requirement already satisfied: wcwidth in /srv/conda/envs/notebook/lib/python3.7/site-packages (from prompt-toolkit!=3.0.0,!=3.0.1,<3.1.0,>=2.0.0->ipython>=5.0.0->ipykernel->notebook>=6.0->RISE) (0.2.5)\n",
      "Requirement already satisfied: typing-extensions>=3.6.4 in /srv/conda/envs/notebook/lib/python3.7/site-packages (from importlib-metadata->jsonschema!=2.5.0,>=2.4->nbformat->notebook>=6.0->RISE) (4.0.0)\n",
      "Requirement already satisfied: pyparsing!=3.0.5,>=2.0.2 in /srv/conda/envs/notebook/lib/python3.7/site-packages (from packaging->bleach->nbconvert->notebook>=6.0->RISE) (3.0.6)\n",
      "Installing collected packages: RISE\n",
      "Successfully installed RISE-5.7.1\n"
     ]
    }
   ],
   "source": [
    "!pip install RISE"
   ]
  },
  {
   "cell_type": "code",
   "execution_count": null,
   "id": "d5bcb931-2c88-41b7-b8a2-ee5a017e6605",
   "metadata": {},
   "outputs": [],
   "source": [
    "# Installing the Package"
   ]
  },
  {
   "cell_type": "code",
   "execution_count": null,
   "id": "82ae50cc-ae03-445c-bec2-99055e8f0831",
   "metadata": {},
   "outputs": [],
   "source": [
    "!pip install dice-ml"
   ]
  },
  {
   "cell_type": "code",
   "execution_count": null,
   "id": "ce5ecb92-2ecd-4320-9bb1-b35fddefdced",
   "metadata": {},
   "outputs": [],
   "source": []
  }
 ],
 "metadata": {
  "kernelspec": {
   "display_name": "Python 3",
   "language": "python",
   "name": "python3"
  },
  "language_info": {
   "codemirror_mode": {
    "name": "ipython",
    "version": 3
   },
   "file_extension": ".py",
   "mimetype": "text/x-python",
   "name": "python",
   "nbconvert_exporter": "python",
   "pygments_lexer": "ipython3",
   "version": "3.7.8"
  }
 },
 "nbformat": 4,
 "nbformat_minor": 5
}
